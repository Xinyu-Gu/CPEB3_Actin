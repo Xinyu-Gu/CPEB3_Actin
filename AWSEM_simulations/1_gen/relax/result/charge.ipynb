{
 "cells": [
  {
   "cell_type": "code",
   "execution_count": 1,
   "metadata": {},
   "outputs": [],
   "source": [
    "import numpy as np\n",
    "\n",
    "seqFile='dock.seq'\n",
    "\n",
    "seq=''\n",
    "with open(seqFile) as input_data:\n",
    "    for line in input_data:\n",
    "        seq += line.strip(\"\\n\")\n",
    "\n",
    "charge=np.zeros(len(seq))\n",
    "for i in range(len(seq)):\n",
    "    if seq[i] == 'D' or seq[i] == 'E':\n",
    "        charge[i] = -1\n",
    "    if seq[i] == 'R' or seq[i] == 'K':\n",
    "        charge[i] = 1\n",
    "\n",
    "np.savetxt(\"charge.log\", charge, fmt='%d')\n"
   ]
  }
 ],
 "metadata": {
  "kernelspec": {
   "display_name": "Python 3",
   "language": "python",
   "name": "python3"
  },
  "language_info": {
   "codemirror_mode": {
    "name": "ipython",
    "version": 3
   },
   "file_extension": ".py",
   "mimetype": "text/x-python",
   "name": "python",
   "nbconvert_exporter": "python",
   "pygments_lexer": "ipython3",
   "version": "3.7.1"
  }
 },
 "nbformat": 4,
 "nbformat_minor": 2
}
